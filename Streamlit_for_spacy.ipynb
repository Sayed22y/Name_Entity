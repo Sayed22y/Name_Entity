{
 "cells": [
  {
   "cell_type": "code",
   "execution_count": 2,
   "id": "8d0deda0-024e-4674-9076-31a4dc1c8636",
   "metadata": {},
   "outputs": [
    {
     "name": "stdout",
     "output_type": "stream",
     "text": [
      "Overwriting Named_Entity_Recognition.py\n"
     ]
    }
   ],
   "source": [
    "%%writefile Named_Entity_Recognition.py\n",
    "\n",
    "import streamlit as st\n",
    "import spacy\n",
    "from spacy import displacy\n",
    "\n",
    "nlp = spacy.load('en_core_web_sm')\n",
    "\n",
    "st.title('Named Entity Recognition')\n",
    "\n",
    "text = st.text_area('Please, Enter a Text to Extract Entities')\n",
    "\n",
    "\n",
    "def entity_recognition(text):\n",
    "    document = nlp(text)\n",
    "    entities = [(ent.text, ent.label_) for ent in document.ents]\n",
    "    return entities\n",
    "\n",
    "def show_entities(document):\n",
    "    json = displacy.render(document, style = 'ent', jupyter=False)\n",
    "    return json\n",
    "\n",
    "if st.button('Extract Entities'):\n",
    "    if text:\n",
    "        document = nlp(text)\n",
    "        entities = entity_recognition(text)\n",
    "        st.write(entities)\n",
    "        st.subheader('Extracted Entities:')\n",
    "        st.markdown(show_entities(document), unsafe_allow_html= True)"
   ]
  },
  {
   "cell_type": "code",
   "execution_count": null,
   "id": "cd4b418c-4df0-45c8-8343-dc5c4133605c",
   "metadata": {},
   "outputs": [],
   "source": []
  }
 ],
 "metadata": {
  "kernelspec": {
   "display_name": "Python 3 (ipykernel)",
   "language": "python",
   "name": "python3"
  },
  "language_info": {
   "codemirror_mode": {
    "name": "ipython",
    "version": 3
   },
   "file_extension": ".py",
   "mimetype": "text/x-python",
   "name": "python",
   "nbconvert_exporter": "python",
   "pygments_lexer": "ipython3",
   "version": "3.12.0"
  }
 },
 "nbformat": 4,
 "nbformat_minor": 5
}
